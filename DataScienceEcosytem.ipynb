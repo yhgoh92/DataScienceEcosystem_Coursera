{
 "cells": [
  {
   "cell_type": "markdown",
   "id": "f1781b25-82f5-4111-9ed4-084719fc9bc2",
   "metadata": {},
   "source": [
    "# Data Science Tools and Ecosytem"
   ]
  },
  {
   "cell_type": "markdown",
   "id": "ec83543f-a86c-4e58-8683-de0f1a992239",
   "metadata": {},
   "source": [
    "In this notebook, Data Science Tools and Ecosystem are summarized."
   ]
  },
  {
   "cell_type": "markdown",
   "id": "c5074689-e59e-490a-8f1d-c4bc306aa13d",
   "metadata": {},
   "source": [
    "**Objectives**\n",
    "- List popular languages that Data Scientits use\n",
    "- Identify common libraries used by Data Scientist\n",
    "- Open source tools used in Data Science\n",
    "- Use basic Python expressions and perform arithmetic operations."
   ]
  },
  {
   "cell_type": "markdown",
   "id": "27945ee9-5e76-431e-9d9c-a18fc581f7a6",
   "metadata": {},
   "source": [
    "Some of the popular languages that Data Scientist use are:\n",
    "1. Python\n",
    "2. R\n",
    "3. Scala"
   ]
  },
  {
   "cell_type": "markdown",
   "id": "b56e3f29-6a5a-4964-a754-0ed5a6125494",
   "metadata": {},
   "source": [
    "Some of the commonly used libraries used by Data Scientists include:\n",
    "1. Pandas\n",
    "2. Numpy\n",
    "3. Matplotlib\n",
    "4. Seaborn\n",
    "5. Plotly\n",
    "6. PyTorch"
   ]
  },
  {
   "cell_type": "markdown",
   "id": "f4cc601e-67f4-4144-a220-351962a5485b",
   "metadata": {},
   "source": [
    "|Data Science Tools|\n",
    "|------------------|\n",
    "|JupyterNotebook|\n",
    "|Rstudios|\n",
    "|Apache Zeppelin|"
   ]
  },
  {
   "cell_type": "markdown",
   "id": "cafec180-9618-4e8f-92f9-d7558a44e90f",
   "metadata": {},
   "source": [
    "### Below are a few examples of evaluating arithmetic expressions in Python.\n"
   ]
  },
  {
   "cell_type": "code",
   "execution_count": 1,
   "id": "7b9de42c-aef8-4243-a95b-00474c6e8f91",
   "metadata": {},
   "outputs": [
    {
     "data": {
      "text/plain": [
       "17"
      ]
     },
     "execution_count": 1,
     "metadata": {},
     "output_type": "execute_result"
    }
   ],
   "source": [
    "# This a simple arithmetic expression to mutiply then add integers.\n",
    "(3*4)+5"
   ]
  },
  {
   "cell_type": "code",
   "execution_count": 3,
   "id": "7ad618a5-d3b5-4152-96fd-112e67881b6e",
   "metadata": {},
   "outputs": [
    {
     "data": {
      "text/plain": [
       "3.3333333333333335"
      ]
     },
     "execution_count": 3,
     "metadata": {},
     "output_type": "execute_result"
    }
   ],
   "source": [
    "# This will convert 200 minutes to hours by diving by 60.\n",
    "200/60"
   ]
  },
  {
   "cell_type": "markdown",
   "id": "a02558d0-4f4a-4048-88fd-fd768e56d905",
   "metadata": {},
   "source": [
    "## Author\n",
    "Ying Hwa, Goh"
   ]
  },
  {
   "cell_type": "code",
   "execution_count": null,
   "id": "49197980-7f7e-4013-aa21-d63f4563d220",
   "metadata": {},
   "outputs": [],
   "source": []
  }
 ],
 "metadata": {
  "kernelspec": {
   "display_name": "Python 3 (ipykernel)",
   "language": "python",
   "name": "python3"
  },
  "language_info": {
   "codemirror_mode": {
    "name": "ipython",
    "version": 3
   },
   "file_extension": ".py",
   "mimetype": "text/x-python",
   "name": "python",
   "nbconvert_exporter": "python",
   "pygments_lexer": "ipython3",
   "version": "3.12.8"
  }
 },
 "nbformat": 4,
 "nbformat_minor": 5
}
